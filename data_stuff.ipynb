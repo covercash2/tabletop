{
 "cells": [
  {
   "cell_type": "code",
   "execution_count": 1,
   "metadata": {
    "collapsed": true,
    "ExecuteTime": {
     "end_time": "2023-07-22T22:33:22.336727Z",
     "start_time": "2023-07-22T22:33:21.638504Z"
    }
   },
   "outputs": [],
   "source": [
    "@file:Repository(\"*mavenLocal\")\n",
    "@file:DependsOn(\"dev.covercash:tabletop-jvm:0.0\")"
   ]
  },
  {
   "cell_type": "code",
   "execution_count": 2,
   "outputs": [],
   "source": [
    "import okio.FileSystem\n",
    "import tabletop.io.*\n",
    "import tabletop.result.*"
   ],
   "metadata": {
    "collapsed": false,
    "ExecuteTime": {
     "end_time": "2023-07-22T22:33:22.980599Z",
     "start_time": "2023-07-22T22:33:22.937240Z"
    }
   }
  },
  {
   "cell_type": "code",
   "execution_count": 3,
   "outputs": [],
   "source": [
    "val fileIo = FileIo(FileSystem.SYSTEM)"
   ],
   "metadata": {
    "collapsed": false,
    "ExecuteTime": {
     "end_time": "2023-07-22T22:33:23.792222Z",
     "start_time": "2023-07-22T22:33:23.703895Z"
    }
   }
  },
  {
   "cell_type": "code",
   "execution_count": 4,
   "outputs": [],
   "source": [
    "val workingDir: Directory = fileIo.tryDir(\"./\".path()).getOrThrow()"
   ],
   "metadata": {
    "collapsed": false,
    "ExecuteTime": {
     "end_time": "2023-07-22T22:33:24.314099Z",
     "start_time": "2023-07-22T22:33:24.220556Z"
    }
   }
  },
  {
   "cell_type": "code",
   "execution_count": 5,
   "outputs": [
    {
     "name": "stdout",
     "output_type": "stream",
     "text": [
      "DirPath(okioPath=.git)\n",
      "File(okioPath=.gitignore)\n",
      "DirPath(okioPath=.gradle)\n",
      "DirPath(okioPath=.idea)\n",
      "DirPath(okioPath=build)\n",
      "File(okioPath=build.gradle.kts)\n",
      "File(okioPath=data_stuff.ipynb)\n",
      "DirPath(okioPath=gradle)\n",
      "File(okioPath=gradle.properties)\n",
      "File(okioPath=gradlew)\n",
      "File(okioPath=gradlew.bat)\n",
      "File(okioPath=settings.gradle.kts)\n",
      "DirPath(okioPath=src)\n"
     ]
    }
   ],
   "source": [
    "workingDir.contents.forEach {\n",
    "    println(it.toString())\n",
    "}"
   ],
   "metadata": {
    "collapsed": false,
    "ExecuteTime": {
     "end_time": "2023-07-22T22:33:24.946283Z",
     "start_time": "2023-07-22T22:33:24.824959Z"
    }
   }
  },
  {
   "cell_type": "code",
   "execution_count": 9,
   "outputs": [],
   "source": [
    "val dataDir: Path = workingDir / \"data\"\n"
   ],
   "metadata": {
    "collapsed": false,
    "ExecuteTime": {
     "end_time": "2023-07-22T22:34:05.181713Z",
     "start_time": "2023-07-22T22:34:05.141378Z"
    }
   }
  },
  {
   "cell_type": "code",
   "execution_count": null,
   "outputs": [],
   "source": [],
   "metadata": {
    "collapsed": false
   }
  }
 ],
 "metadata": {
  "kernelspec": {
   "display_name": "Kotlin",
   "language": "kotlin",
   "name": "kotlin"
  },
  "language_info": {
   "name": "kotlin",
   "version": "1.8.20",
   "mimetype": "text/x-kotlin",
   "file_extension": ".kt",
   "pygments_lexer": "kotlin",
   "codemirror_mode": "text/x-kotlin",
   "nbconvert_exporter": ""
  },
  "ktnbPluginMetadata": {
   "isBuildProject": true
  }
 },
 "nbformat": 4,
 "nbformat_minor": 0
}
