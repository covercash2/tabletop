{
 "cells": [
  {
   "cell_type": "code",
   "execution_count": 2,
   "outputs": [],
   "source": [
    "import okio.FileSystem\n",
    "import com.akuleshov7.ktoml.Toml\n",
    "import tabletop.io.*\n",
    "import tabletop.result.*\n",
    "import tabletop.stats.Charisma\n",
    "import tabletop.stats.Constitution\n",
    "import tabletop.stats.Dexterity\n",
    "import tabletop.stats.Intelligence\n",
    "import tabletop.stats.StatBlock\n",
    "import tabletop.stats.Strength\n",
    "import tabletop.stats.Wisdom\n",
    "import tabletop.ecs.getWorld"
   ],
   "metadata": {
    "collapsed": false,
    "ExecuteTime": {
     "end_time": "2023-07-30T14:22:21.637940Z",
     "start_time": "2023-07-30T14:22:21.597446Z"
    }
   }
  },
  {
   "cell_type": "code",
   "execution_count": 3,
   "outputs": [],
   "source": [
    "val world = getWorld()"
   ],
   "metadata": {
    "collapsed": false,
    "ExecuteTime": {
     "end_time": "2023-07-30T14:22:22.337551Z",
     "start_time": "2023-07-30T14:22:22.263442Z"
    }
   }
  },
  {
   "cell_type": "code",
   "execution_count": 4,
   "outputs": [],
   "source": [
    "import tabletop.ecs.Damage\n",
    "import tabletop.ecs.Health\n",
    "\n",
    "val entity = world.entity {\n",
    "    it += Health(10, 10u)\n",
    "    it += Damage(5u)\n",
    "}"
   ],
   "metadata": {
    "collapsed": false,
    "ExecuteTime": {
     "end_time": "2023-07-30T14:22:23.016879Z",
     "start_time": "2023-07-30T14:22:22.867159Z"
    }
   }
  },
  {
   "cell_type": "code",
   "execution_count": 5,
   "outputs": [
    {
     "data": {
      "text/plain": "{Entity(id=0)=[Damage(amount=5), Health(current=10, max=10)]}"
     },
     "execution_count": 5,
     "metadata": {},
     "output_type": "execute_result"
    }
   ],
   "source": [
    "world.snapshot()"
   ],
   "metadata": {
    "collapsed": false,
    "ExecuteTime": {
     "end_time": "2023-07-30T14:22:48.698566Z",
     "start_time": "2023-07-30T14:22:48.636075Z"
    }
   }
  },
  {
   "cell_type": "code",
   "execution_count": 8,
   "outputs": [
    {
     "data": {
      "text/plain": "{Entity(id=0)=[Health(current=5, max=10)]}"
     },
     "execution_count": 8,
     "metadata": {},
     "output_type": "execute_result"
    }
   ],
   "source": [
    "world.update(1f)\n",
    "world.snapshot()"
   ],
   "metadata": {
    "collapsed": false,
    "ExecuteTime": {
     "end_time": "2023-07-30T14:23:19.228138Z",
     "start_time": "2023-07-30T14:23:19.186667Z"
    }
   }
  },
  {
   "cell_type": "code",
   "execution_count": null,
   "outputs": [],
   "source": [],
   "metadata": {
    "collapsed": false
   }
  },
  {
   "cell_type": "code",
   "execution_count": 36,
   "outputs": [
    {
     "name": "stderr",
     "output_type": "stream",
     "text": [
      "Backend Internal error: Exception during IR lowering\n",
      "File being compiled: Line_36.jupyter.kts\n",
      "The root cause java.lang.RuntimeException was thrown at: org.jetbrains.kotlin.backend.jvm.codegen.FunctionCodegen.generate(FunctionCodegen.kt:51)"
     ]
    }
   ],
   "source": [
    "val stats = StatBlock(\n",
    "    strength = Strength(10u),\n",
    "    dexterity = Dexterity(10u),\n",
    "    constitution = Constitution(10u),\n",
    "    wisdom = Wisdom(10u),\n",
    "    intelligence = Intelligence(10u),\n",
    "    charisma = Charisma(10u),\n",
    ")\n",
    "\n",
    "val tomlFile: TomlFile = fileIo.writeToml(stats, environment.dataHome / \"stat_test.toml\").getOrThrow()\n",
    "tomlFile"
   ],
   "metadata": {
    "collapsed": false,
    "ExecuteTime": {
     "end_time": "2023-07-29T15:44:28.088576Z",
     "start_time": "2023-07-29T15:44:28.038348Z"
    }
   }
  },
  {
   "cell_type": "code",
   "execution_count": 37,
   "outputs": [
    {
     "name": "stderr",
     "output_type": "stream",
     "text": [
      "Backend Internal error: Exception during psi2ir\n",
      "File being compiled: (1,36) in Line_37.jupyter.kts\n",
      "The root cause java.lang.AssertionError was thrown at: org.jetbrains.kotlin.ir.util.SymbolTable.referenceValueParameter(SymbolTable.kt:1034)\n",
      "Undefined parameter referenced: class Line_36_jupyter::this\n",
      "owner=PROPERTY name:content visibility:public modality:FINAL [val]; []\n",
      "owner=SCRIPT; [class Line_26_jupyter::this, class Line_4_jupyter::this, class Line_5_jupyter::this, class Line_16_jupyter::this, class Line_32_jupyter::this, class Line_3_jupyter::this, class Line_15_jupyter::this, class Line_20_jupyter::this, class Line_19_jupyter::this, class Line_0_jupyter::this, class Line_22_jupyter::this, class Line_11_jupyter::this, class Line_10_jupyter::this, class Line_27_jupyter::this, class Line_23_jupyter::this, class Line_7_jupyter::this, class Line_33_jupyter::this, class Line_8_jupyter::this, class Line_30_jupyter::this, class Line_18_jupyter::this, class Line_1_jupyter::this, class Line_28_jupyter::this, class Line_25_jupyter::this, class Line_14_jupyter::this, class Line_37_jupyter::this, class Line_2_jupyter::this, class Line_9_jupyter::this, class Line_17_jupyter::this, class Line_21_jupyter::this, class Line_34_jupyter::this, class Line_13_jupyter::this, class Line_24_jupyter::this, class Line_35_jupyter::this, class Line_31_jupyter::this, class Line_6_jupyter::this, class Line_12_jupyter::this, class Line_29_jupyter::this]\n",
      ": KtNameReferenceExpression:\n",
      "tomlFile"
     ]
    }
   ],
   "source": [
    "val content = fileIo.tryLoadString(tomlFile.asFile()).getOrThrow()\n",
    "content"
   ],
   "metadata": {
    "collapsed": false,
    "ExecuteTime": {
     "end_time": "2023-07-29T15:44:28.698593Z",
     "start_time": "2023-07-29T15:44:28.672097Z"
    }
   }
  },
  {
   "cell_type": "code",
   "execution_count": 38,
   "outputs": [
    {
     "name": "stderr",
     "output_type": "stream",
     "text": [
      "Backend Internal error: Exception during psi2ir\n",
      "File being compiled: (1,40) in Line_38.jupyter.kts\n",
      "The root cause java.lang.AssertionError was thrown at: org.jetbrains.kotlin.ir.util.SymbolTable.referenceValueParameter(SymbolTable.kt:1034)\n",
      "Undefined parameter referenced: class Line_37_jupyter::this\n",
      "owner=PROPERTY name:loadedStats visibility:public modality:FINAL [val]; []\n",
      "owner=SCRIPT; [class Line_26_jupyter::this, class Line_4_jupyter::this, class Line_5_jupyter::this, class Line_16_jupyter::this, class Line_32_jupyter::this, class Line_3_jupyter::this, class Line_15_jupyter::this, class Line_20_jupyter::this, class Line_19_jupyter::this, class Line_0_jupyter::this, class Line_22_jupyter::this, class Line_11_jupyter::this, class Line_10_jupyter::this, class Line_27_jupyter::this, class Line_23_jupyter::this, class Line_7_jupyter::this, class Line_33_jupyter::this, class Line_8_jupyter::this, class Line_30_jupyter::this, class Line_18_jupyter::this, class Line_1_jupyter::this, class Line_28_jupyter::this, class Line_25_jupyter::this, class Line_14_jupyter::this, class Line_2_jupyter::this, class Line_38_jupyter::this, class Line_9_jupyter::this, class Line_17_jupyter::this, class Line_21_jupyter::this, class Line_34_jupyter::this, class Line_13_jupyter::this, class Line_24_jupyter::this, class Line_35_jupyter::this, class Line_31_jupyter::this, class Line_6_jupyter::this, class Line_12_jupyter::this, class Line_29_jupyter::this]\n",
      ": KtNameReferenceExpression:\n",
      "content"
     ]
    }
   ],
   "source": [
    "val loadedStats = Toml.tryEncodeString(content).getOrThrow()\n",
    "loadedStats"
   ],
   "metadata": {
    "collapsed": false,
    "ExecuteTime": {
     "end_time": "2023-07-29T15:44:29.524822Z",
     "start_time": "2023-07-29T15:44:29.509457Z"
    }
   }
  },
  {
   "cell_type": "code",
   "execution_count": 39,
   "outputs": [
    {
     "name": "stderr",
     "output_type": "stream",
     "text": [
      "org.jetbrains.kotlin.analyzer.CompilationErrorException"
     ]
    }
   ],
   "source": [
    "import kotlinx.serialization.encodeToString\n",
    "\n",
    "val strength = Strength(10u)\n",
    "val string = Toml.encodeToString(strength)\n",
    "string"
   ],
   "metadata": {
    "collapsed": false,
    "ExecuteTime": {
     "end_time": "2023-07-29T15:44:30.220164Z",
     "start_time": "2023-07-29T15:44:30.202355Z"
    }
   }
  },
  {
   "cell_type": "code",
   "execution_count": 40,
   "outputs": [
    {
     "name": "stderr",
     "output_type": "stream",
     "text": [
      "org.jetbrains.kotlin.analyzer.CompilationErrorException"
     ]
    }
   ],
   "source": [
    "import kotlinx.serialization.Serializable\n",
    "import kotlinx.serialization.encodeToString\n",
    "\n",
    "@Serializable\n",
    "@JvmInline\n",
    "value class Num(val int: Int)\n",
    "\n",
    "val num = Num(1)\n",
    "val string = Toml.encodeToString(num)\n",
    "string"
   ],
   "metadata": {
    "collapsed": false,
    "ExecuteTime": {
     "end_time": "2023-07-29T15:44:30.903643Z",
     "start_time": "2023-07-29T15:44:30.883421Z"
    }
   }
  },
  {
   "cell_type": "code",
   "execution_count": 41,
   "outputs": [
    {
     "name": "stderr",
     "output_type": "stream",
     "text": [
      "org.jetbrains.kotlin.analyzer.CompilationErrorException"
     ]
    }
   ],
   "source": [
    "import kotlinx.serialization.Serializable\n",
    "import kotlinx.serialization.encodeToString\n",
    "import kotlinx.serialization.json.Json\n",
    "\n",
    "@Serializable\n",
    "@JvmInline\n",
    "value class Num(val int: Int)\n",
    "\n",
    "@Serializable\n",
    "data class Nums(\n",
    "    val num1: Num,\n",
    "    val num2: Num,\n",
    ")\n",
    "\n",
    "val num1 = Num(1)\n",
    "val num2 = Num(2)\n",
    "\n",
    "val nums = Nums(num1, num2)\n",
    "\n",
    "val zero = Toml.encodeToString(num1)\n",
    "println(zero)\n",
    "val one = Toml.encodeToString(num2)\n",
    "println(one)\n",
    "val two = Toml.encodeToString(nums)\n",
    "println(two)"
   ],
   "metadata": {
    "collapsed": false,
    "ExecuteTime": {
     "end_time": "2023-07-29T15:44:31.397342Z",
     "start_time": "2023-07-29T15:44:31.345586Z"
    }
   }
  },
  {
   "cell_type": "code",
   "execution_count": null,
   "outputs": [],
   "source": [],
   "metadata": {
    "collapsed": false
   }
  }
 ],
 "metadata": {
  "kernelspec": {
   "display_name": "Kotlin",
   "language": "kotlin",
   "name": "kotlin"
  },
  "language_info": {
   "name": "kotlin",
   "version": "1.8.20",
   "mimetype": "text/x-kotlin",
   "file_extension": ".kt",
   "pygments_lexer": "kotlin",
   "codemirror_mode": "text/x-kotlin",
   "nbconvert_exporter": ""
  },
  "ktnbPluginMetadata": {
   "isBuildProject": true
  }
 },
 "nbformat": 4,
 "nbformat_minor": 0
}
