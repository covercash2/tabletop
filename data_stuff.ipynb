{
 "cells": [
  {
   "cell_type": "code",
   "execution_count": 1,
   "outputs": [],
   "source": [
    "import okio.FileSystem\n",
    "import tabletop.io.*\n",
    "import tabletop.result.*\n",
    "import tabletop.ecs.getWorld\n",
    "import tabletop.damage.Damage"
   ],
   "metadata": {
    "collapsed": false,
    "ExecuteTime": {
     "end_time": "2023-08-05T22:34:39.017605Z",
     "start_time": "2023-08-05T22:34:38.974093Z"
    }
   }
  },
  {
   "cell_type": "code",
   "execution_count": 2,
   "outputs": [],
   "source": [
    "val world = getWorld()"
   ],
   "metadata": {
    "collapsed": false,
    "ExecuteTime": {
     "end_time": "2023-08-05T22:34:39.602406Z",
     "start_time": "2023-08-05T22:34:39.520994Z"
    }
   }
  },
  {
   "cell_type": "code",
   "execution_count": 3,
   "outputs": [],
   "source": [
    "import tabletop.ecs.Health\n",
    "\n",
    "val entity = world.entity {\n",
    "    it += Health(10, 10u)\n",
    "    it += Damage(5u)\n",
    "}"
   ],
   "metadata": {
    "collapsed": false,
    "ExecuteTime": {
     "end_time": "2023-08-05T22:34:40.374561Z",
     "start_time": "2023-08-05T22:34:40.186790Z"
    }
   }
  },
  {
   "cell_type": "code",
   "execution_count": 4,
   "outputs": [
    {
     "data": {
      "text/plain": "{Entity(id=0)=[Damage(amount=5), Health(current=10, max=10)]}"
     },
     "execution_count": 4,
     "metadata": {},
     "output_type": "execute_result"
    }
   ],
   "source": [
    "world.snapshot()"
   ],
   "metadata": {
    "collapsed": false,
    "ExecuteTime": {
     "end_time": "2023-08-05T22:34:40.771657Z",
     "start_time": "2023-08-05T22:34:40.723877Z"
    }
   }
  },
  {
   "cell_type": "code",
   "execution_count": 5,
   "outputs": [
    {
     "data": {
      "text/plain": "{Entity(id=0)=[Health(current=5, max=10)]}"
     },
     "execution_count": 5,
     "metadata": {},
     "output_type": "execute_result"
    }
   ],
   "source": [
    "world.update(1f)\n",
    "world.snapshot()"
   ],
   "metadata": {
    "collapsed": false,
    "ExecuteTime": {
     "end_time": "2023-08-05T22:34:41.479205Z",
     "start_time": "2023-08-05T22:34:41.425401Z"
    }
   }
  },
  {
   "cell_type": "code",
   "execution_count": 6,
   "outputs": [],
   "source": [
    "val fileIo = fileIo()"
   ],
   "metadata": {
    "collapsed": false,
    "ExecuteTime": {
     "end_time": "2023-08-05T22:34:48.041589Z",
     "start_time": "2023-08-05T22:34:47.990739Z"
    }
   }
  },
  {
   "cell_type": "code",
   "execution_count": 7,
   "outputs": [
    {
     "data": {
      "text/plain": "/Users/chrash/.local/share/tabletop/stat_test.json"
     },
     "execution_count": 7,
     "metadata": {},
     "output_type": "execute_result"
    }
   ],
   "source": [
    "import tabletop.Environment\n",
    "import tabletop.loadEnvironment\n",
    "import tabletop.stats.trivialStatBlock\n",
    "\n",
    "val environment = fileIo.loadEnvironment().getOrThrow()\n",
    "val stats = trivialStatBlock()\n",
    "val serializedFile: File = fileIo.writeSerial(stats, environment.dataHome / \"stat_test.json\").getOrThrow()\n",
    "serializedFile"
   ],
   "metadata": {
    "collapsed": false,
    "ExecuteTime": {
     "end_time": "2023-08-05T22:34:49.692390Z",
     "start_time": "2023-08-05T22:34:49.563520Z"
    }
   }
  },
  {
   "cell_type": "code",
   "execution_count": 8,
   "outputs": [
    {
     "data": {
      "text/plain": "{\"level\":1,\"strength\":10,\"dexterity\":10,\"constitution\":10,\"intelligence\":10,\"wisdom\":10,\"charisma\":10}"
     },
     "execution_count": 8,
     "metadata": {},
     "output_type": "execute_result"
    }
   ],
   "source": [
    "val content = fileIo.loadString(serializedFile).getOrThrow()\n",
    "content"
   ],
   "metadata": {
    "collapsed": false,
    "ExecuteTime": {
     "end_time": "2023-08-05T22:34:50.682739Z",
     "start_time": "2023-08-05T22:34:50.625424Z"
    }
   }
  },
  {
   "cell_type": "code",
   "execution_count": 11,
   "outputs": [
    {
     "data": {
      "text/plain": "StatBlock(level=1, strength=10, dexterity=10, constitution=10, intelligence=10, wisdom=10, charisma=10, proficiencies=[])"
     },
     "execution_count": 11,
     "metadata": {},
     "output_type": "execute_result"
    }
   ],
   "source": [
    "import tabletop.stats.StatBlock\n",
    "\n",
    "val statBlock = fileIo.loadSerial<StatBlock>(serializedFile).getOrThrow()\n",
    "statBlock"
   ],
   "metadata": {
    "collapsed": false,
    "ExecuteTime": {
     "end_time": "2023-08-05T22:35:08.145557Z",
     "start_time": "2023-08-05T22:35:08.083539Z"
    }
   }
  },
  {
   "cell_type": "code",
   "execution_count": 14,
   "outputs": [
    {
     "name": "stdout",
     "output_type": "stream",
     "text": [
      "Strength=10 modifier: 0\n",
      "Dexterity=10 modifier: 0\n",
      "Constitution=10 modifier: 0\n",
      "Intelligence=10 modifier: 0\n",
      "Wisdom=10 modifier: 0\n",
      "Charisma=10 modifier: 0\n"
     ]
    }
   ],
   "source": [
    "import tabletop.stats.abilityModifier\n",
    "\n",
    "statBlock.all.forEach {\n",
    "    println(\"$it modifier: ${it.value.abilityModifier()}\")\n",
    "}"
   ],
   "metadata": {
    "collapsed": false,
    "ExecuteTime": {
     "end_time": "2023-08-05T22:35:49.769105Z",
     "start_time": "2023-08-05T22:35:49.713624Z"
    }
   }
  },
  {
   "cell_type": "code",
   "execution_count": 15,
   "outputs": [
    {
     "data": {
      "text/plain": "1"
     },
     "execution_count": 15,
     "metadata": {},
     "output_type": "execute_result"
    }
   ],
   "source": [
    "import tabletop.stats.StraightCheck\n",
    "import tabletop.stats.Strength\n",
    "\n",
    "val checkEntity = world.entity {\n",
    "    it += statBlock\n",
    "    it += StraightCheck(\n",
    "        difficultyClass = 15u,\n",
    "        ability = Strength,\n",
    "    )\n",
    "}\n",
    "checkEntity"
   ],
   "metadata": {
    "collapsed": false,
    "ExecuteTime": {
     "end_time": "2023-08-05T22:36:13.909593Z",
     "start_time": "2023-08-05T22:36:13.828059Z"
    }
   }
  },
  {
   "cell_type": "code",
   "execution_count": 16,
   "outputs": [
    {
     "name": "stdout",
     "output_type": "stream",
     "text": [
      "[2023-08-05T17:36:19.889573] Ok(value=17) StraightCheck(ability=Strength, difficultyClass=15) roll: 17\n"
     ]
    },
    {
     "data": {
      "text/plain": "{Entity(id=0)=[Health(current=5, max=10)], Entity(id=1)=[StatBlock(level=1, strength=10, dexterity=10, constitution=10, intelligence=10, wisdom=10, charisma=10, proficiencies=[])]}"
     },
     "execution_count": 16,
     "metadata": {},
     "output_type": "execute_result"
    }
   ],
   "source": [
    "world.update(10f)\n",
    "world.snapshot()"
   ],
   "metadata": {
    "collapsed": false,
    "ExecuteTime": {
     "end_time": "2023-08-05T22:36:19.904922Z",
     "start_time": "2023-08-05T22:36:19.853486Z"
    }
   }
  },
  {
   "cell_type": "code",
   "execution_count": 15,
   "outputs": [],
   "source": [],
   "metadata": {
    "collapsed": false,
    "ExecuteTime": {
     "end_time": "2023-08-05T19:08:52.768949Z",
     "start_time": "2023-08-05T19:08:52.761731Z"
    }
   }
  },
  {
   "cell_type": "code",
   "execution_count": 14,
   "outputs": [],
   "source": [],
   "metadata": {
    "collapsed": false,
    "ExecuteTime": {
     "end_time": "2023-08-05T18:58:07.272447Z",
     "start_time": "2023-08-05T18:58:07.230795Z"
    }
   }
  },
  {
   "cell_type": "code",
   "execution_count": null,
   "outputs": [],
   "source": [],
   "metadata": {
    "collapsed": false
   }
  }
 ],
 "metadata": {
  "kernelspec": {
   "display_name": "Kotlin",
   "language": "kotlin",
   "name": "kotlin"
  },
  "language_info": {
   "name": "kotlin",
   "version": "1.8.20",
   "mimetype": "text/x-kotlin",
   "file_extension": ".kt",
   "pygments_lexer": "kotlin",
   "codemirror_mode": "text/x-kotlin",
   "nbconvert_exporter": ""
  },
  "ktnbPluginMetadata": {
   "isBuildProject": true
  }
 },
 "nbformat": 4,
 "nbformat_minor": 0
}
