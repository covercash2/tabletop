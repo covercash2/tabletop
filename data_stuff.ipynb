{
 "cells": [
  {
   "cell_type": "code",
   "execution_count": 1,
   "outputs": [],
   "source": [
    "import okio.FileSystem\n",
    "import tabletop.io.*\n",
    "import tabletop.result.*\n",
    "import tabletop.stats.Charisma\n",
    "import tabletop.stats.Constitution\n",
    "import tabletop.stats.Dexterity\n",
    "import tabletop.stats.Intelligence\n",
    "import tabletop.stats.StatBlock\n",
    "import tabletop.stats.Strength\n",
    "import tabletop.stats.Wisdom\n",
    "import tabletop.ecs.getWorld\n",
    "import tabletop.damage.Damage"
   ],
   "metadata": {
    "collapsed": false,
    "ExecuteTime": {
     "end_time": "2023-08-05T18:58:06.410435Z",
     "start_time": "2023-08-05T18:58:06.360020Z"
    }
   }
  },
  {
   "cell_type": "code",
   "execution_count": 2,
   "outputs": [],
   "source": [
    "val world = getWorld()"
   ],
   "metadata": {
    "collapsed": false,
    "ExecuteTime": {
     "end_time": "2023-08-05T18:58:06.486088Z",
     "start_time": "2023-08-05T18:58:06.408674Z"
    }
   }
  },
  {
   "cell_type": "code",
   "execution_count": 3,
   "outputs": [],
   "source": [
    "import tabletop.ecs.Health\n",
    "\n",
    "val entity = world.entity {\n",
    "    it += Health(10, 10u)\n",
    "    it += Damage(5u)\n",
    "}"
   ],
   "metadata": {
    "collapsed": false,
    "ExecuteTime": {
     "end_time": "2023-08-05T18:58:06.668371Z",
     "start_time": "2023-08-05T18:58:06.484906Z"
    }
   }
  },
  {
   "cell_type": "code",
   "execution_count": 4,
   "outputs": [
    {
     "data": {
      "text/plain": "{Entity(id=0)=[Damage(amount=5), Health(current=10, max=10)]}"
     },
     "execution_count": 4,
     "metadata": {},
     "output_type": "execute_result"
    }
   ],
   "source": [
    "world.snapshot()"
   ],
   "metadata": {
    "collapsed": false,
    "ExecuteTime": {
     "end_time": "2023-08-05T18:58:06.720757Z",
     "start_time": "2023-08-05T18:58:06.665368Z"
    }
   }
  },
  {
   "cell_type": "code",
   "execution_count": 5,
   "outputs": [
    {
     "data": {
      "text/plain": "{Entity(id=0)=[Health(current=5, max=10)]}"
     },
     "execution_count": 5,
     "metadata": {},
     "output_type": "execute_result"
    }
   ],
   "source": [
    "world.update(1f)\n",
    "world.snapshot()"
   ],
   "metadata": {
    "collapsed": false,
    "ExecuteTime": {
     "end_time": "2023-08-05T18:58:06.780214Z",
     "start_time": "2023-08-05T18:58:06.718567Z"
    }
   }
  },
  {
   "cell_type": "code",
   "execution_count": 6,
   "outputs": [],
   "source": [
    "val fileIo = fileIo()"
   ],
   "metadata": {
    "collapsed": false,
    "ExecuteTime": {
     "end_time": "2023-08-05T18:58:06.794510Z",
     "start_time": "2023-08-05T18:58:06.751544Z"
    }
   }
  },
  {
   "cell_type": "code",
   "execution_count": 7,
   "outputs": [
    {
     "data": {
      "text/plain": "/Users/chrash/.local/share/tabletop/stat_test.json"
     },
     "execution_count": 7,
     "metadata": {},
     "output_type": "execute_result"
    }
   ],
   "source": [
    "import tabletop.Environment\n",
    "import tabletop.loadEnvironment\n",
    "import tabletop.stats.trivialStatBlock\n",
    "\n",
    "val environment = fileIo.loadEnvironment().getOrThrow()\n",
    "val stats = trivialStatBlock()\n",
    "val serializedFile: File = fileIo.writeSerial(stats, environment.dataHome / \"stat_test.json\").getOrThrow()\n",
    "serializedFile"
   ],
   "metadata": {
    "collapsed": false,
    "ExecuteTime": {
     "end_time": "2023-08-05T18:58:06.915924Z",
     "start_time": "2023-08-05T18:58:06.791543Z"
    }
   }
  },
  {
   "cell_type": "code",
   "execution_count": 8,
   "outputs": [
    {
     "data": {
      "text/plain": "{\"strength\":10,\"dexterity\":10,\"constitution\":10,\"intelligence\":10,\"wisdom\":10,\"charisma\":10}"
     },
     "execution_count": 8,
     "metadata": {},
     "output_type": "execute_result"
    }
   ],
   "source": [
    "val content = fileIo.loadString(serializedFile).getOrThrow()\n",
    "content"
   ],
   "metadata": {
    "collapsed": false,
    "ExecuteTime": {
     "end_time": "2023-08-05T18:58:06.958085Z",
     "start_time": "2023-08-05T18:58:06.914224Z"
    }
   }
  },
  {
   "cell_type": "code",
   "execution_count": 9,
   "outputs": [
    {
     "data": {
      "text/plain": "StatBlock(strength=Strength(value=10), dexterity=Dexterity(value=10), constitution=Constitution(value=10), intelligence=Intelligence(value=10), wisdom=Wisdom(value=10), charisma=Charisma(value=10), proficiencies=[])"
     },
     "execution_count": 9,
     "metadata": {},
     "output_type": "execute_result"
    }
   ],
   "source": [
    "val statBlock = fileIo.loadSerial<StatBlock>(serializedFile).getOrThrow()\n",
    "statBlock"
   ],
   "metadata": {
    "collapsed": false,
    "ExecuteTime": {
     "end_time": "2023-08-05T18:58:07.023188Z",
     "start_time": "2023-08-05T18:58:06.956675Z"
    }
   }
  },
  {
   "cell_type": "code",
   "execution_count": 10,
   "outputs": [
    {
     "name": "stdout",
     "output_type": "stream",
     "text": [
      "Strength(value=10) modifier: 0\n",
      "Dexterity(value=10) modifier: 0\n",
      "Constitution(value=10) modifier: 0\n",
      "Intelligence(value=10) modifier: 0\n",
      "Wisdom(value=10) modifier: 0\n",
      "Charisma(value=10) modifier: 0\n"
     ]
    }
   ],
   "source": [
    "import tabletop.stats.modifier\n",
    "\n",
    "statBlock.all.forEach {\n",
    "    println(\"$it modifier: ${it.modifier()}\")\n",
    "}"
   ],
   "metadata": {
    "collapsed": false,
    "ExecuteTime": {
     "end_time": "2023-08-05T18:58:07.096500Z",
     "start_time": "2023-08-05T18:58:07.022061Z"
    }
   }
  },
  {
   "cell_type": "code",
   "execution_count": 11,
   "outputs": [
    {
     "data": {
      "text/plain": "1"
     },
     "execution_count": 11,
     "metadata": {},
     "output_type": "execute_result"
    }
   ],
   "source": [
    "import tabletop.stats.AbilityCheck\n",
    "import tabletop.stats.AbilityType\n",
    "\n",
    "val checkEntity = world.entity {\n",
    "    it += statBlock\n",
    "    it += AbilityCheck(\n",
    "        difficultyClass = 15u,\n",
    "        abilityType = AbilityType.Strength,\n",
    "    )\n",
    "}\n",
    "checkEntity"
   ],
   "metadata": {
    "collapsed": false,
    "ExecuteTime": {
     "end_time": "2023-08-05T18:58:07.165087Z",
     "start_time": "2023-08-05T18:58:07.094965Z"
    }
   }
  },
  {
   "cell_type": "code",
   "execution_count": 12,
   "outputs": [
    {
     "name": "stdout",
     "output_type": "stream",
     "text": [
      "[2023-08-05T13:58:07.189266] Ok(value=20) AbilityCheck(difficultyClass=15, abilityType=Strength)\n"
     ]
    },
    {
     "data": {
      "text/plain": "{Entity(id=0)=[Health(current=5, max=10)], Entity(id=1)=[StatBlock(strength=Strength(value=10), dexterity=Dexterity(value=10), constitution=Constitution(value=10), intelligence=Intelligence(value=10), wisdom=Wisdom(value=10), charisma=Charisma(value=10), proficiencies=[])]}"
     },
     "execution_count": 12,
     "metadata": {},
     "output_type": "execute_result"
    }
   ],
   "source": [
    "world.update(10f)\n",
    "world.snapshot()"
   ],
   "metadata": {
    "collapsed": false,
    "ExecuteTime": {
     "end_time": "2023-08-05T18:58:07.219603Z",
     "start_time": "2023-08-05T18:58:07.162772Z"
    }
   }
  },
  {
   "cell_type": "code",
   "execution_count": 15,
   "outputs": [],
   "source": [],
   "metadata": {
    "collapsed": false,
    "ExecuteTime": {
     "end_time": "2023-08-05T19:08:52.768949Z",
     "start_time": "2023-08-05T19:08:52.761731Z"
    }
   }
  },
  {
   "cell_type": "code",
   "execution_count": 14,
   "outputs": [],
   "source": [],
   "metadata": {
    "collapsed": false,
    "ExecuteTime": {
     "end_time": "2023-08-05T18:58:07.272447Z",
     "start_time": "2023-08-05T18:58:07.230795Z"
    }
   }
  },
  {
   "cell_type": "code",
   "execution_count": null,
   "outputs": [],
   "source": [],
   "metadata": {
    "collapsed": false
   }
  }
 ],
 "metadata": {
  "kernelspec": {
   "display_name": "Kotlin",
   "language": "kotlin",
   "name": "kotlin"
  },
  "language_info": {
   "name": "kotlin",
   "version": "1.8.20",
   "mimetype": "text/x-kotlin",
   "file_extension": ".kt",
   "pygments_lexer": "kotlin",
   "codemirror_mode": "text/x-kotlin",
   "nbconvert_exporter": ""
  },
  "ktnbPluginMetadata": {
   "isBuildProject": true
  }
 },
 "nbformat": 4,
 "nbformat_minor": 0
}
